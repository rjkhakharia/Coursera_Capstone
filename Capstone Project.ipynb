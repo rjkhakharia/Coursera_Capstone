{
 "cells": [
  {
   "cell_type": "markdown",
   "metadata": {},
   "source": [
    "<h3>Import Libraries for the Analysis</h3>"
   ]
  },
  {
   "cell_type": "code",
   "execution_count": 2,
   "metadata": {},
   "outputs": [
    {
     "name": "stdout",
     "output_type": "stream",
     "text": [
      "Libraries Imported\n"
     ]
    }
   ],
   "source": [
    "import numpy as np # library to handle data in a vectorized manner\n",
    "\n",
    "import pandas as pd # library for data analsysis\n",
    "pd.set_option('display.max_columns', None)\n",
    "pd.set_option('display.max_rows', None)\n",
    "\n",
    "import json # library to handle JSON files\n",
    "\n",
    "import requests # library to handle requests\n",
    "from pandas.io.json import json_normalize # tranform JSON file into a pandas dataframe\n",
    "\n",
    "import matplotlib as mpl\n",
    "import matplotlib.pyplot as plt\n",
    "import matplotlib.ticker as ticker\n",
    "from matplotlib.backends.backend_pdf import PdfPages\n",
    "\n",
    "import datetime\n",
    "\n",
    "# import k-means clustering\n",
    "from sklearn.cluster import KMeans\n",
    "print(\"Libraries Imported\")"
   ]
  },
  {
   "cell_type": "markdown",
   "metadata": {},
   "source": [
    "<h3>Import All CSV Files</h3>"
   ]
  },
  {
   "cell_type": "code",
   "execution_count": 9,
   "metadata": {},
   "outputs": [
    {
     "data": {
      "text/html": [
       "<div>\n",
       "<style scoped>\n",
       "    .dataframe tbody tr th:only-of-type {\n",
       "        vertical-align: middle;\n",
       "    }\n",
       "\n",
       "    .dataframe tbody tr th {\n",
       "        vertical-align: top;\n",
       "    }\n",
       "\n",
       "    .dataframe thead th {\n",
       "        text-align: right;\n",
       "    }\n",
       "</style>\n",
       "<table border=\"1\" class=\"dataframe\">\n",
       "  <thead>\n",
       "    <tr style=\"text-align: right;\">\n",
       "      <th></th>\n",
       "      <th>X</th>\n",
       "      <th>Y</th>\n",
       "      <th>OBJECTID</th>\n",
       "      <th>FacilityMasterID</th>\n",
       "      <th>FacilityName</th>\n",
       "      <th>Category</th>\n",
       "      <th>CategoryStyle</th>\n",
       "      <th>SiteStreet</th>\n",
       "      <th>SiteCity</th>\n",
       "      <th>SiteTelephone</th>\n",
       "      <th>WorkArea</th>\n",
       "    </tr>\n",
       "  </thead>\n",
       "  <tbody>\n",
       "    <tr>\n",
       "      <th>0</th>\n",
       "      <td>-80.358081</td>\n",
       "      <td>43.395509</td>\n",
       "      <td>11468</td>\n",
       "      <td>E4665DDB-2876-4C32-8C80-500F1776451B</td>\n",
       "      <td>KING VARIETY</td>\n",
       "      <td>Food, General</td>\n",
       "      <td>Food store convenience / Variety</td>\n",
       "      <td>720 KING ST E</td>\n",
       "      <td>Cambridge</td>\n",
       "      <td>(519) 653-5943</td>\n",
       "      <td>CK2</td>\n",
       "    </tr>\n",
       "    <tr>\n",
       "      <th>1</th>\n",
       "      <td>-80.555346</td>\n",
       "      <td>43.531847</td>\n",
       "      <td>11469</td>\n",
       "      <td>9625C2A9-A439-4C27-AE95-669C4FA4C8A9</td>\n",
       "      <td>TIM HORTONS</td>\n",
       "      <td>Food, General</td>\n",
       "      <td>Restaurant</td>\n",
       "      <td>1229 KING ST N</td>\n",
       "      <td>St. Jacobs</td>\n",
       "      <td>(519) 664-1544</td>\n",
       "      <td>KW8</td>\n",
       "    </tr>\n",
       "    <tr>\n",
       "      <th>2</th>\n",
       "      <td>-80.525369</td>\n",
       "      <td>43.484231</td>\n",
       "      <td>11471</td>\n",
       "      <td>126A3305-190C-4D61-B0E8-889AB4E101EA</td>\n",
       "      <td>Lakelands Diet Delivery</td>\n",
       "      <td>Food, General</td>\n",
       "      <td>Caterer / Commissary</td>\n",
       "      <td>401 Weber ST N</td>\n",
       "      <td>Waterloo</td>\n",
       "      <td>(226) 444-5163</td>\n",
       "      <td>KW10</td>\n",
       "    </tr>\n",
       "    <tr>\n",
       "      <th>3</th>\n",
       "      <td>-80.536425</td>\n",
       "      <td>43.414992</td>\n",
       "      <td>11473</td>\n",
       "      <td>2E4D9684-C487-4F93-8AD5-1C5364A8FDAD</td>\n",
       "      <td>DRIFTWOOD PARK CHILD CARE CENTRE</td>\n",
       "      <td>Food, Institutional</td>\n",
       "      <td>Child Care Onsite Prep./Recreational Camp/Co-op</td>\n",
       "      <td>50 PARKLAND CRES</td>\n",
       "      <td>Kitchener</td>\n",
       "      <td>(519) 570-2520</td>\n",
       "      <td>KW4</td>\n",
       "    </tr>\n",
       "    <tr>\n",
       "      <th>4</th>\n",
       "      <td>-80.444505</td>\n",
       "      <td>43.452131</td>\n",
       "      <td>11477</td>\n",
       "      <td>E65B7458-F178-4285-9926-F46520CAD2B0</td>\n",
       "      <td>PIZZA PIZZA</td>\n",
       "      <td>Food, General</td>\n",
       "      <td>Restaurant</td>\n",
       "      <td>1020 OTTAWA ST N</td>\n",
       "      <td>Kitchener</td>\n",
       "      <td>(519) 748-2755</td>\n",
       "      <td>KW3</td>\n",
       "    </tr>\n",
       "  </tbody>\n",
       "</table>\n",
       "</div>"
      ],
      "text/plain": [
       "           X          Y  OBJECTID                      FacilityMasterID  \\\n",
       "0 -80.358081  43.395509     11468  E4665DDB-2876-4C32-8C80-500F1776451B   \n",
       "1 -80.555346  43.531847     11469  9625C2A9-A439-4C27-AE95-669C4FA4C8A9   \n",
       "2 -80.525369  43.484231     11471  126A3305-190C-4D61-B0E8-889AB4E101EA   \n",
       "3 -80.536425  43.414992     11473  2E4D9684-C487-4F93-8AD5-1C5364A8FDAD   \n",
       "4 -80.444505  43.452131     11477  E65B7458-F178-4285-9926-F46520CAD2B0   \n",
       "\n",
       "                       FacilityName             Category  \\\n",
       "0                      KING VARIETY        Food, General   \n",
       "1                       TIM HORTONS        Food, General   \n",
       "2           Lakelands Diet Delivery        Food, General   \n",
       "3  DRIFTWOOD PARK CHILD CARE CENTRE  Food, Institutional   \n",
       "4                       PIZZA PIZZA        Food, General   \n",
       "\n",
       "                                     CategoryStyle        SiteStreet  \\\n",
       "0                 Food store convenience / Variety     720 KING ST E   \n",
       "1                                       Restaurant    1229 KING ST N   \n",
       "2                             Caterer / Commissary    401 Weber ST N   \n",
       "3  Child Care Onsite Prep./Recreational Camp/Co-op  50 PARKLAND CRES   \n",
       "4                                       Restaurant  1020 OTTAWA ST N   \n",
       "\n",
       "     SiteCity   SiteTelephone WorkArea  \n",
       "0   Cambridge  (519) 653-5943      CK2  \n",
       "1  St. Jacobs  (519) 664-1544      KW8  \n",
       "2    Waterloo  (226) 444-5163     KW10  \n",
       "3   Kitchener  (519) 570-2520      KW4  \n",
       "4   Kitchener  (519) 748-2755      KW3  "
      ]
     },
     "execution_count": 9,
     "metadata": {},
     "output_type": "execute_result"
    }
   ],
   "source": [
    "df_FoodFacilities = pd.read_csv('Food_Inspection_Facilities.csv')\n",
    "df_FoodFacilities.head()"
   ]
  },
  {
   "cell_type": "code",
   "execution_count": 10,
   "metadata": {},
   "outputs": [
    {
     "data": {
      "text/html": [
       "<div>\n",
       "<style scoped>\n",
       "    .dataframe tbody tr th:only-of-type {\n",
       "        vertical-align: middle;\n",
       "    }\n",
       "\n",
       "    .dataframe tbody tr th {\n",
       "        vertical-align: top;\n",
       "    }\n",
       "\n",
       "    .dataframe thead th {\n",
       "        text-align: right;\n",
       "    }\n",
       "</style>\n",
       "<table border=\"1\" class=\"dataframe\">\n",
       "  <thead>\n",
       "    <tr style=\"text-align: right;\">\n",
       "      <th></th>\n",
       "      <th>INFRACTION_ID</th>\n",
       "      <th>INSPECTION_ID</th>\n",
       "      <th>INFRACTION_TYPE</th>\n",
       "      <th>Infraction</th>\n",
       "      <th>Result</th>\n",
       "      <th>Comment</th>\n",
       "      <th>InspectionDate</th>\n",
       "    </tr>\n",
       "  </thead>\n",
       "  <tbody>\n",
       "    <tr>\n",
       "      <th>0</th>\n",
       "      <td>5BCFD0AC-C034-4DC9-B8B4-02AF76EF5274</td>\n",
       "      <td>B62FEEB3-37A1-425F-ACEA-1EED58DFDB3C</td>\n",
       "      <td>NON-CRITICAL</td>\n",
       "      <td>Furniture, equipment and appliances in food ha...</td>\n",
       "      <td>Corrected During Inspection</td>\n",
       "      <td>Maintain and arrange appliances to permit a cl...</td>\n",
       "      <td>2018/08/28</td>\n",
       "    </tr>\n",
       "    <tr>\n",
       "      <th>1</th>\n",
       "      <td>745D9715-50D2-4527-933A-0845C005500F</td>\n",
       "      <td>CAD3CDA5-505B-4718-A9AD-1BDCD4B0F532</td>\n",
       "      <td>NON-CRITICAL</td>\n",
       "      <td>Furniture, equipment and appliances in food ha...</td>\n",
       "      <td>Not in Compliance</td>\n",
       "      <td>Remove all materials not associated with the d...</td>\n",
       "      <td>2018/08/23</td>\n",
       "    </tr>\n",
       "    <tr>\n",
       "      <th>2</th>\n",
       "      <td>A7A74F2D-1D62-4956-B764-0E998F8B6B50</td>\n",
       "      <td>A82C82A7-E485-49A2-A9F3-E552C51D9A97</td>\n",
       "      <td>NON-CRITICAL</td>\n",
       "      <td>Furniture, equipment and appliances in food ha...</td>\n",
       "      <td>Not in Compliance</td>\n",
       "      <td>NaN</td>\n",
       "      <td>2018/09/20</td>\n",
       "    </tr>\n",
       "    <tr>\n",
       "      <th>3</th>\n",
       "      <td>0187B88A-1D44-430B-8578-15C1CB607391</td>\n",
       "      <td>BADE6395-E24F-4476-B4E4-F4EED578C1CF</td>\n",
       "      <td>NON-CRITICAL</td>\n",
       "      <td>Furniture, equipment and appliances in food ha...</td>\n",
       "      <td>Not in Compliance</td>\n",
       "      <td>Maintain and arrange furniture to permit a cle...</td>\n",
       "      <td>2018/08/28</td>\n",
       "    </tr>\n",
       "    <tr>\n",
       "      <th>4</th>\n",
       "      <td>38AF0445-45C2-407F-8E9D-2AEED6CDFA18</td>\n",
       "      <td>9A3E9605-453A-46D2-8F75-B9AC22480A3B</td>\n",
       "      <td>NON-CRITICAL</td>\n",
       "      <td>Furniture, equipment and appliances in food ha...</td>\n",
       "      <td>Not in Compliance</td>\n",
       "      <td>Maintain and arrange equipment to permit a cle...</td>\n",
       "      <td>2018/09/13</td>\n",
       "    </tr>\n",
       "  </tbody>\n",
       "</table>\n",
       "</div>"
      ],
      "text/plain": [
       "                          INFRACTION_ID                         INSPECTION_ID  \\\n",
       "0  5BCFD0AC-C034-4DC9-B8B4-02AF76EF5274  B62FEEB3-37A1-425F-ACEA-1EED58DFDB3C   \n",
       "1  745D9715-50D2-4527-933A-0845C005500F  CAD3CDA5-505B-4718-A9AD-1BDCD4B0F532   \n",
       "2  A7A74F2D-1D62-4956-B764-0E998F8B6B50  A82C82A7-E485-49A2-A9F3-E552C51D9A97   \n",
       "3  0187B88A-1D44-430B-8578-15C1CB607391  BADE6395-E24F-4476-B4E4-F4EED578C1CF   \n",
       "4  38AF0445-45C2-407F-8E9D-2AEED6CDFA18  9A3E9605-453A-46D2-8F75-B9AC22480A3B   \n",
       "\n",
       "  INFRACTION_TYPE                                         Infraction  \\\n",
       "0    NON-CRITICAL  Furniture, equipment and appliances in food ha...   \n",
       "1    NON-CRITICAL  Furniture, equipment and appliances in food ha...   \n",
       "2    NON-CRITICAL  Furniture, equipment and appliances in food ha...   \n",
       "3    NON-CRITICAL  Furniture, equipment and appliances in food ha...   \n",
       "4    NON-CRITICAL  Furniture, equipment and appliances in food ha...   \n",
       "\n",
       "                        Result  \\\n",
       "0  Corrected During Inspection   \n",
       "1            Not in Compliance   \n",
       "2            Not in Compliance   \n",
       "3            Not in Compliance   \n",
       "4            Not in Compliance   \n",
       "\n",
       "                                             Comment InspectionDate  \n",
       "0  Maintain and arrange appliances to permit a cl...     2018/08/28  \n",
       "1  Remove all materials not associated with the d...     2018/08/23  \n",
       "2                                                NaN     2018/09/20  \n",
       "3  Maintain and arrange furniture to permit a cle...     2018/08/28  \n",
       "4  Maintain and arrange equipment to permit a cle...     2018/09/13  "
      ]
     },
     "execution_count": 10,
     "metadata": {},
     "output_type": "execute_result"
    }
   ],
   "source": [
    "df_Infractions = pd.read_csv('Infractions_OpenData.csv', engine='python') \n",
    "#this file has an encoding issue and required specifying the engine to parse the data\n",
    "df_Infractions.head()"
   ]
  },
  {
   "cell_type": "code",
   "execution_count": 13,
   "metadata": {},
   "outputs": [
    {
     "data": {
      "text/html": [
       "<div>\n",
       "<style scoped>\n",
       "    .dataframe tbody tr th:only-of-type {\n",
       "        vertical-align: middle;\n",
       "    }\n",
       "\n",
       "    .dataframe tbody tr th {\n",
       "        vertical-align: top;\n",
       "    }\n",
       "\n",
       "    .dataframe thead th {\n",
       "        text-align: right;\n",
       "    }\n",
       "</style>\n",
       "<table border=\"1\" class=\"dataframe\">\n",
       "  <thead>\n",
       "    <tr style=\"text-align: right;\">\n",
       "      <th></th>\n",
       "      <th>INSPECTION_ID</th>\n",
       "      <th>FACILITYID</th>\n",
       "      <th>INSPECTION_DATE</th>\n",
       "      <th>REQUIRE_REINSPECTION</th>\n",
       "      <th>CERTIFIED_FOOD_HANDLER</th>\n",
       "      <th>INSPECTION_TYPE</th>\n",
       "    </tr>\n",
       "  </thead>\n",
       "  <tbody>\n",
       "    <tr>\n",
       "      <th>0</th>\n",
       "      <td>86BF1EB9-F088-484C-9725-00014ED539CA</td>\n",
       "      <td>98312352-BEF2-4695-8B7A-2DDAEC387210</td>\n",
       "      <td>2019/07/24</td>\n",
       "      <td>N</td>\n",
       "      <td>No</td>\n",
       "      <td>Compliance Inspection</td>\n",
       "    </tr>\n",
       "    <tr>\n",
       "      <th>1</th>\n",
       "      <td>78D6795D-A908-429B-95A4-00057AD61B4E</td>\n",
       "      <td>4AF8E99A-22AD-4FC6-9568-B161A06499CF</td>\n",
       "      <td>2019/08/21</td>\n",
       "      <td>N</td>\n",
       "      <td>No</td>\n",
       "      <td>Re-inspection</td>\n",
       "    </tr>\n",
       "    <tr>\n",
       "      <th>2</th>\n",
       "      <td>CB8A02EC-4EE2-4B64-90C2-00075CCC7428</td>\n",
       "      <td>D4FF8AF3-0D41-4F36-9B5E-48E599884E30</td>\n",
       "      <td>2018/11/09</td>\n",
       "      <td>N</td>\n",
       "      <td>No</td>\n",
       "      <td>Compliance Inspection</td>\n",
       "    </tr>\n",
       "    <tr>\n",
       "      <th>3</th>\n",
       "      <td>90CB570C-4898-4F0E-977E-001BF93575AC</td>\n",
       "      <td>3A7076E6-7C2C-427D-A107-7EFCB10E2DFE</td>\n",
       "      <td>2019/01/16</td>\n",
       "      <td>N</td>\n",
       "      <td>No</td>\n",
       "      <td>Re-inspection</td>\n",
       "    </tr>\n",
       "    <tr>\n",
       "      <th>4</th>\n",
       "      <td>AE6CB55D-FE36-4AD5-91A1-002B902E6FF0</td>\n",
       "      <td>F0C0D913-3724-4ACA-89D2-9E39FF44CF17</td>\n",
       "      <td>2019/09/25</td>\n",
       "      <td>N</td>\n",
       "      <td>No</td>\n",
       "      <td>Compliance Inspection</td>\n",
       "    </tr>\n",
       "  </tbody>\n",
       "</table>\n",
       "</div>"
      ],
      "text/plain": [
       "                          INSPECTION_ID                            FACILITYID  \\\n",
       "0  86BF1EB9-F088-484C-9725-00014ED539CA  98312352-BEF2-4695-8B7A-2DDAEC387210   \n",
       "1  78D6795D-A908-429B-95A4-00057AD61B4E  4AF8E99A-22AD-4FC6-9568-B161A06499CF   \n",
       "2  CB8A02EC-4EE2-4B64-90C2-00075CCC7428  D4FF8AF3-0D41-4F36-9B5E-48E599884E30   \n",
       "3  90CB570C-4898-4F0E-977E-001BF93575AC  3A7076E6-7C2C-427D-A107-7EFCB10E2DFE   \n",
       "4  AE6CB55D-FE36-4AD5-91A1-002B902E6FF0  F0C0D913-3724-4ACA-89D2-9E39FF44CF17   \n",
       "\n",
       "  INSPECTION_DATE REQUIRE_REINSPECTION CERTIFIED_FOOD_HANDLER  \\\n",
       "0      2019/07/24                    N                     No   \n",
       "1      2019/08/21                    N                     No   \n",
       "2      2018/11/09                    N                     No   \n",
       "3      2019/01/16                    N                     No   \n",
       "4      2019/09/25                    N                     No   \n",
       "\n",
       "         INSPECTION_TYPE  \n",
       "0  Compliance Inspection  \n",
       "1          Re-inspection  \n",
       "2  Compliance Inspection  \n",
       "3          Re-inspection  \n",
       "4  Compliance Inspection  "
      ]
     },
     "execution_count": 13,
     "metadata": {},
     "output_type": "execute_result"
    }
   ],
   "source": [
    "df_Inspections = pd.read_csv('Inspections_OpenData.csv')\n",
    "df_Inspections.head()"
   ]
  },
  {
   "cell_type": "markdown",
   "metadata": {},
   "source": [
    "<h3>Set up Foursquare Endpoints</h3>"
   ]
  },
  {
   "cell_type": "code",
   "execution_count": 38,
   "metadata": {},
   "outputs": [],
   "source": [
    "# @hidden_cell\n",
    "CLIENT_ID = 'REMOVED FOR UPLOAD' # your Foursquare ID\n",
    "CLIENT_SECRET = 'REMOVED FOR UPLOAD' # your Foursquare Secret\n",
    "VERSION = '20180605' # Foursquare API version"
   ]
  },
  {
   "cell_type": "markdown",
   "metadata": {},
   "source": [
    "<h4>Function to Import from Venues Endpoint (free access)</h4>"
   ]
  },
  {
   "cell_type": "code",
   "execution_count": 64,
   "metadata": {},
   "outputs": [
    {
     "data": {
      "text/html": [
       "<div>\n",
       "<style scoped>\n",
       "    .dataframe tbody tr th:only-of-type {\n",
       "        vertical-align: middle;\n",
       "    }\n",
       "\n",
       "    .dataframe tbody tr th {\n",
       "        vertical-align: top;\n",
       "    }\n",
       "\n",
       "    .dataframe thead th {\n",
       "        text-align: right;\n",
       "    }\n",
       "</style>\n",
       "<table border=\"1\" class=\"dataframe\">\n",
       "  <thead>\n",
       "    <tr style=\"text-align: right;\">\n",
       "      <th></th>\n",
       "      <th>FacilityMasterID</th>\n",
       "      <th>FoursquareID</th>\n",
       "      <th>FoursquareName</th>\n",
       "    </tr>\n",
       "  </thead>\n",
       "  <tbody>\n",
       "  </tbody>\n",
       "</table>\n",
       "</div>"
      ],
      "text/plain": [
       "Empty DataFrame\n",
       "Columns: [FacilityMasterID, FoursquareID, FoursquareName]\n",
       "Index: []"
      ]
     },
     "execution_count": 64,
     "metadata": {},
     "output_type": "execute_result"
    }
   ],
   "source": [
    "#set up dataframe for Venues DataFrame\n",
    "column_headings = ['FacilityMasterID', 'FoursquareID', 'FoursquareName']\n",
    "\n",
    "# instantiate the dataframe\n",
    "foursquare_venues = pd.DataFrame(columns=column_headings)\n",
    "foursquare_venues.head()"
   ]
  },
  {
   "cell_type": "code",
   "execution_count": 74,
   "metadata": {},
   "outputs": [],
   "source": [
    "def getVenues(name, latitudes, longitudes):\n",
    "          \n",
    "    INTENT = 'match' #find near exact match to the information provided\n",
    "    \n",
    "    # create the API request URL\n",
    "    url = 'https://api.foursquare.com/v2/venues/search?&client_id={}&client_secret={}&v={}&ll={},{}&query={}&intent={}'.format(\n",
    "        CLIENT_ID, \n",
    "        CLIENT_SECRET, \n",
    "        VERSION, \n",
    "        latitudes, \n",
    "        longitudes,\n",
    "        name,\n",
    "        INTENT)\n",
    "\n",
    "    # make the GET request\n",
    "    results = requests.get(url).json()[\"response\"][\"venues\"][0]\n",
    "    FoursquareID = results['id']\n",
    "    FoursquareName= results['name']\n",
    "    \n",
    "    return(FoursquareID, FoursquareName)"
   ]
  },
  {
   "cell_type": "markdown",
   "metadata": {},
   "source": [
    "<h4>Test the function</h4>"
   ]
  },
  {
   "cell_type": "code",
   "execution_count": 75,
   "metadata": {},
   "outputs": [
    {
     "data": {
      "text/plain": [
       "('4d1b0a4eeab1224b32d6cee2', 'King Variety')"
      ]
     },
     "execution_count": 75,
     "metadata": {},
     "output_type": "execute_result"
    }
   ],
   "source": [
    "getVenues(df_FoodFacilities.FacilityName[0],\n",
    "                   df_FoodFacilities.Y[0], df_FoodFacilities.X[0])"
   ]
  },
  {
   "cell_type": "code",
   "execution_count": 76,
   "metadata": {},
   "outputs": [],
   "source": [
    "#Note that we will only populate this data after preliminary analysis to ensure that usage limits are not exceeded"
   ]
  },
  {
   "cell_type": "code",
   "execution_count": null,
   "metadata": {},
   "outputs": [],
   "source": []
  },
  {
   "cell_type": "code",
   "execution_count": null,
   "metadata": {},
   "outputs": [],
   "source": []
  },
  {
   "cell_type": "code",
   "execution_count": 51,
   "metadata": {},
   "outputs": [
    {
     "data": {
      "text/plain": [
       "0"
      ]
     },
     "execution_count": 51,
     "metadata": {},
     "output_type": "execute_result"
    }
   ],
   "source": []
  },
  {
   "cell_type": "code",
   "execution_count": null,
   "metadata": {},
   "outputs": [],
   "source": []
  }
 ],
 "metadata": {
  "kernelspec": {
   "display_name": "Python 3",
   "language": "python",
   "name": "python3"
  },
  "language_info": {
   "codemirror_mode": {
    "name": "ipython",
    "version": 3
   },
   "file_extension": ".py",
   "mimetype": "text/x-python",
   "name": "python",
   "nbconvert_exporter": "python",
   "pygments_lexer": "ipython3",
   "version": "3.7.6"
  }
 },
 "nbformat": 4,
 "nbformat_minor": 4
}
